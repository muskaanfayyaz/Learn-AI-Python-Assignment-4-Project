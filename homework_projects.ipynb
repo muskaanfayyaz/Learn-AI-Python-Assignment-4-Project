{
  "nbformat": 4,
  "nbformat_minor": 0,
  "metadata": {
    "colab": {
      "provenance": [],
      "collapsed_sections": [
        "Rc1bJ-js-9gI",
        "vdH9P7KQ_JFD",
        "FwNu90HgASda",
        "Q7RwcFxgAvom",
        "AaDGW2CGBHWk",
        "rZHHXGNGBYw6",
        "opX3YfQsBmKL"
      ],
      "authorship_tag": "ABX9TyNeuY6uX+NGiGdmlXtFUWtX",
      "include_colab_link": true
    },
    "kernelspec": {
      "name": "python3",
      "display_name": "Python 3"
    },
    "language_info": {
      "name": "python"
    }
  },
  "cells": [
    {
      "cell_type": "markdown",
      "metadata": {
        "id": "view-in-github",
        "colab_type": "text"
      },
      "source": [
        "<a href=\"https://colab.research.google.com/github/muskaanfayyaz/Learn-AI-Python-Assignment-4-Project/blob/main/homework_projects.ipynb\" target=\"_parent\"><img src=\"https://colab.research.google.com/assets/colab-badge.svg\" alt=\"Open In Colab\"/></a>"
      ]
    },
    {
      "cell_type": "markdown",
      "source": [
        "# **homework_projects**"
      ],
      "metadata": {
        "id": "_ltXb8tS_1kj"
      }
    },
    {
      "cell_type": "markdown",
      "source": [
        "# **00_intro_python**"
      ],
      "metadata": {
        "id": "Rc1bJ-js-9gI"
      }
    },
    {
      "cell_type": "markdown",
      "source": [
        "### **01_add_two_numbers**"
      ],
      "metadata": {
        "id": "vdH9P7KQ_JFD"
      }
    },
    {
      "cell_type": "code",
      "source": [
        "\n",
        "def main():\n",
        "    # Prompt the user to enter the first number\n",
        "    first_number = int(input(\"Enter the first number: \"))\n",
        "\n",
        "    # Prompt the user to enter the second number\n",
        "    second_number = int(input(\"Enter the second number: \"))\n",
        "\n",
        "    # Calculate the sum of the two numbers\n",
        "    total_sum = first_number + second_number\n",
        "\n",
        "    # Print the result with an appropriate message\n",
        "    print(\"The sum of\", first_number, \"and\", second_number, \"is:\", total_sum)\n",
        "\n",
        "# Call the main function\n",
        "if __name__ == \"__main__\":\n",
        "    main()\n"
      ],
      "metadata": {
        "id": "lpkbsCnDAW-r"
      },
      "execution_count": null,
      "outputs": []
    },
    {
      "cell_type": "markdown",
      "source": [
        "### **02_agreement_bot**"
      ],
      "metadata": {
        "id": "FwNu90HgASda"
      }
    },
    {
      "cell_type": "code",
      "source": [
        "def main():\n",
        "    # Ask the user for their favorite animal\n",
        "    favorite_animal = input(\"What's your favorite animal? \")\n",
        "\n",
        "    # Respond with a matching message\n",
        "    print(f\"My favorite animal is also {favorite_animal}!\")\n",
        "\n",
        "# Call the main function\n",
        "if __name__ == \"__main__\":\n",
        "    main()"
      ],
      "metadata": {
        "id": "USj3krsbAp_H"
      },
      "execution_count": null,
      "outputs": []
    },
    {
      "cell_type": "markdown",
      "source": [
        "### **03_fahrenheit_to_celsius**"
      ],
      "metadata": {
        "id": "Q7RwcFxgAvom"
      }
    },
    {
      "cell_type": "code",
      "source": [
        "def main():\n",
        "    # Prompt the user to enter the temperature in Fahrenheit\n",
        "    degrees_fahrenheit = float(input(\"Enter temperature in Fahrenheit: \"))\n",
        "\n",
        "    # Convert Fahrenheit to Celsius\n",
        "    degrees_celsius = (degrees_fahrenheit - 32) * 5.0 / 9.0\n",
        "\n",
        "    # Display the result\n",
        "    print(f\"Temperature: {degrees_fahrenheit}F = {degrees_celsius}C\")\n",
        "\n",
        "# Call the main function\n",
        "if __name__ == \"__main__\":\n",
        "    main()"
      ],
      "metadata": {
        "id": "0wtfCceZA8f7"
      },
      "execution_count": null,
      "outputs": []
    },
    {
      "cell_type": "markdown",
      "source": [
        "### **04_how_old_are_they**"
      ],
      "metadata": {
        "id": "AaDGW2CGBHWk"
      }
    },
    {
      "cell_type": "code",
      "source": [
        "def main():\n",
        "    anton: int = 21  # Anton's age is given as 21 years old\n",
        "    beth: int = anton + 6  # Beth is 6 years older than Anton\n",
        "    chen: int = beth + 20  # Chen is 20 years older than Beth\n",
        "    drew: int = chen + anton  # Drew is as old as Chen's age plus Anton's age\n",
        "    ethan: int = chen  # Ethan is the same age as Chen\n",
        "\n",
        "    # Print out all of the ages!\n",
        "    print(\"Anton is \" + str(anton) + \" years old.\")\n",
        "    print(\"Beth is \" + str(beth) + \" years old.\")\n",
        "    print(\"Chen is \" + str(chen) + \" years old.\")\n",
        "    print(\"Drew is \" + str(drew) + \" years old.\")\n",
        "    print(\"Ethan is \" + str(ethan) + \" years old.\")\n",
        "\n",
        "# There is no need to edit code beyond this point\n",
        "if __name__ == '__main__':\n",
        "    main()"
      ],
      "metadata": {
        "id": "mrF-h50EBPZD"
      },
      "execution_count": null,
      "outputs": []
    },
    {
      "cell_type": "markdown",
      "source": [
        "### **05_triangle_perimeter**"
      ],
      "metadata": {
        "id": "rZHHXGNGBYw6"
      }
    },
    {
      "cell_type": "code",
      "source": [
        "def main():\n",
        "    # Prompt the user for each side of the triangle\n",
        "    side1 = float(input(\"What is the length of side 1? \"))\n",
        "    side2 = float(input(\"What is the length of side 2? \"))\n",
        "    side3 = float(input(\"What is the length of side 3? \"))\n",
        "\n",
        "    # Calculate the perimeter\n",
        "    perimeter = side1 + side2 + side3\n",
        "\n",
        "    # Print the result\n",
        "    print(\"The perimeter of the triangle is\", perimeter)\n",
        "\n",
        "# Call the main function\n",
        "if __name__ == '__main__':\n",
        "    main()"
      ],
      "metadata": {
        "id": "9_V16q5rBcL_"
      },
      "execution_count": null,
      "outputs": []
    },
    {
      "cell_type": "markdown",
      "source": [
        "### **06_square_number**"
      ],
      "metadata": {
        "id": "opX3YfQsBmKL"
      }
    },
    {
      "cell_type": "code",
      "source": [
        "def main():\n",
        "    # Ask the user for a number\n",
        "    number = float(input(\"Type a number to see its square: \"))\n",
        "\n",
        "    # Calculate the square\n",
        "    square = number * number\n",
        "\n",
        "    # Print the result\n",
        "    print(f\"{number} squared is {square}\")\n",
        "\n",
        "# Run the program\n",
        "if __name__ == '__main__':\n",
        "    main()"
      ],
      "metadata": {
        "id": "tgiL3kx2Bkm3"
      },
      "execution_count": null,
      "outputs": []
    }
  ]
}
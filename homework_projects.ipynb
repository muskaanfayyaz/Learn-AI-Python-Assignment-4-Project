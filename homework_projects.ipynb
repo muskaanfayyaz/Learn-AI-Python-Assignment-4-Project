{
  "nbformat": 4,
  "nbformat_minor": 0,
  "metadata": {
    "colab": {
      "provenance": [],
      "collapsed_sections": [
        "Rc1bJ-js-9gI",
        "vdH9P7KQ_JFD",
        "FwNu90HgASda",
        "Q7RwcFxgAvom",
        "AaDGW2CGBHWk",
        "rZHHXGNGBYw6",
        "opX3YfQsBmKL"
      ],
      "authorship_tag": "ABX9TyMA7zUDM7KeWESiKYt6d1aw",
      "include_colab_link": true
    },
    "kernelspec": {
      "name": "python3",
      "display_name": "Python 3"
    },
    "language_info": {
      "name": "python"
    }
  },
  "cells": [
    {
      "cell_type": "markdown",
      "metadata": {
        "id": "view-in-github",
        "colab_type": "text"
      },
      "source": [
        "<a href=\"https://colab.research.google.com/github/muskaanfayyaz/Learn-AI-Python-Assignment-4-Project/blob/main/homework_projects.ipynb\" target=\"_parent\"><img src=\"https://colab.research.google.com/assets/colab-badge.svg\" alt=\"Open In Colab\"/></a>"
      ]
    },
    {
      "cell_type": "markdown",
      "source": [
        "# **homework_projects**"
      ],
      "metadata": {
        "id": "_ltXb8tS_1kj"
      }
    },
    {
      "cell_type": "markdown",
      "source": [
        "## **00_intro_python**"
      ],
      "metadata": {
        "id": "Rc1bJ-js-9gI"
      }
    },
    {
      "cell_type": "markdown",
      "source": [
        "### **01_add_two_numbers**"
      ],
      "metadata": {
        "id": "vdH9P7KQ_JFD"
      }
    },
    {
      "cell_type": "code",
      "source": [
        "\n",
        "def main():\n",
        "    # Prompt the user to enter the first number\n",
        "    first_number = int(input(\"Enter the first number: \"))\n",
        "\n",
        "    # Prompt the user to enter the second number\n",
        "    second_number = int(input(\"Enter the second number: \"))\n",
        "\n",
        "    # Calculate the sum of the two numbers\n",
        "    total_sum = first_number + second_number\n",
        "\n",
        "    # Print the result with an appropriate message\n",
        "    print(\"The sum of\", first_number, \"and\", second_number, \"is:\", total_sum)\n",
        "\n",
        "# Call the main function\n",
        "if __name__ == \"__main__\":\n",
        "    main()\n"
      ],
      "metadata": {
        "id": "lpkbsCnDAW-r"
      },
      "execution_count": null,
      "outputs": []
    },
    {
      "cell_type": "markdown",
      "source": [
        "### **02_agreement_bot**"
      ],
      "metadata": {
        "id": "FwNu90HgASda"
      }
    },
    {
      "cell_type": "code",
      "source": [
        "def main():\n",
        "    # Ask the user for their favorite animal\n",
        "    favorite_animal = input(\"What's your favorite animal? \")\n",
        "\n",
        "    # Respond with a matching message\n",
        "    print(f\"My favorite animal is also {favorite_animal}!\")\n",
        "\n",
        "# Call the main function\n",
        "if __name__ == \"__main__\":\n",
        "    main()"
      ],
      "metadata": {
        "id": "USj3krsbAp_H"
      },
      "execution_count": null,
      "outputs": []
    },
    {
      "cell_type": "markdown",
      "source": [
        "### **03_fahrenheit_to_celsius**"
      ],
      "metadata": {
        "id": "Q7RwcFxgAvom"
      }
    },
    {
      "cell_type": "code",
      "source": [
        "def main():\n",
        "    # Prompt the user to enter the temperature in Fahrenheit\n",
        "    degrees_fahrenheit = float(input(\"Enter temperature in Fahrenheit: \"))\n",
        "\n",
        "    # Convert Fahrenheit to Celsius\n",
        "    degrees_celsius = (degrees_fahrenheit - 32) * 5.0 / 9.0\n",
        "\n",
        "    # Display the result\n",
        "    print(f\"Temperature: {degrees_fahrenheit}F = {degrees_celsius}C\")\n",
        "\n",
        "# Call the main function\n",
        "if __name__ == \"__main__\":\n",
        "    main()"
      ],
      "metadata": {
        "id": "0wtfCceZA8f7"
      },
      "execution_count": null,
      "outputs": []
    },
    {
      "cell_type": "markdown",
      "source": [
        "### **04_how_old_are_they**"
      ],
      "metadata": {
        "id": "AaDGW2CGBHWk"
      }
    },
    {
      "cell_type": "code",
      "source": [
        "def main():\n",
        "    anton: int = 21  # Anton's age is given as 21 years old\n",
        "    beth: int = anton + 6  # Beth is 6 years older than Anton\n",
        "    chen: int = beth + 20  # Chen is 20 years older than Beth\n",
        "    drew: int = chen + anton  # Drew is as old as Chen's age plus Anton's age\n",
        "    ethan: int = chen  # Ethan is the same age as Chen\n",
        "\n",
        "    # Print out all of the ages!\n",
        "    print(\"Anton is \" + str(anton) + \" years old.\")\n",
        "    print(\"Beth is \" + str(beth) + \" years old.\")\n",
        "    print(\"Chen is \" + str(chen) + \" years old.\")\n",
        "    print(\"Drew is \" + str(drew) + \" years old.\")\n",
        "    print(\"Ethan is \" + str(ethan) + \" years old.\")\n",
        "\n",
        "# There is no need to edit code beyond this point\n",
        "if __name__ == '__main__':\n",
        "    main()"
      ],
      "metadata": {
        "id": "mrF-h50EBPZD"
      },
      "execution_count": null,
      "outputs": []
    },
    {
      "cell_type": "markdown",
      "source": [
        "### **05_triangle_perimeter**"
      ],
      "metadata": {
        "id": "rZHHXGNGBYw6"
      }
    },
    {
      "cell_type": "code",
      "source": [
        "def main():\n",
        "    # Prompt the user for each side of the triangle\n",
        "    side1 = float(input(\"What is the length of side 1? \"))\n",
        "    side2 = float(input(\"What is the length of side 2? \"))\n",
        "    side3 = float(input(\"What is the length of side 3? \"))\n",
        "\n",
        "    # Calculate the perimeter\n",
        "    perimeter = side1 + side2 + side3\n",
        "\n",
        "    # Print the result\n",
        "    print(\"The perimeter of the triangle is\", perimeter)\n",
        "\n",
        "# Call the main function\n",
        "if __name__ == '__main__':\n",
        "    main()"
      ],
      "metadata": {
        "id": "9_V16q5rBcL_"
      },
      "execution_count": null,
      "outputs": []
    },
    {
      "cell_type": "markdown",
      "source": [
        "### **06_square_number**"
      ],
      "metadata": {
        "id": "opX3YfQsBmKL"
      }
    },
    {
      "cell_type": "code",
      "source": [
        "def main():\n",
        "    # Ask the user for a number\n",
        "    number = float(input(\"Type a number to see its square: \"))\n",
        "\n",
        "    # Calculate the square\n",
        "    square = number * number\n",
        "\n",
        "    # Print the result\n",
        "    print(f\"{number} squared is {square}\")\n",
        "\n",
        "# Run the program\n",
        "if __name__ == '__main__':\n",
        "    main()"
      ],
      "metadata": {
        "id": "tgiL3kx2Bkm3"
      },
      "execution_count": null,
      "outputs": []
    },
    {
      "cell_type": "markdown",
      "source": [
        "## **01_expressions**"
      ],
      "metadata": {
        "id": "hNrKv4H9DYeT"
      }
    },
    {
      "cell_type": "markdown",
      "source": [
        "### **01_dicesimulator**"
      ],
      "metadata": {
        "id": "91L6GCgTDsfj"
      }
    },
    {
      "cell_type": "code",
      "source": [
        "import random\n",
        "\n",
        "NUM_SIDES = 6\n",
        "\n",
        "def roll_dice():\n",
        "    die1 = random.randint(1, NUM_SIDES)\n",
        "    die2 = random.randint(1, NUM_SIDES)\n",
        "    total = die1 + die2\n",
        "    print(f\"Rolled: {die1} and {die2} — Total of two dice: {total}\")\n",
        "\n",
        "def main():\n",
        "    die1 = 10  # Local variable in main\n",
        "    print(f\"die1 in main() starts as: {die1}\\n\")\n",
        "\n",
        "    for i in range(1, 4):\n",
        "        print(f\"Roll {i}:\")\n",
        "        roll_dice()\n",
        "        print()\n",
        "\n",
        "    print(f\"die1 in main() ends as: {die1}\")\n",
        "\n",
        "if __name__ == '__main__':\n",
        "    main()"
      ],
      "metadata": {
        "id": "Y8kU7xs8D2T0"
      },
      "execution_count": null,
      "outputs": []
    },
    {
      "cell_type": "markdown",
      "source": [
        "### **02_e=mc2**"
      ],
      "metadata": {
        "id": "Xj4QJqhyD-Pv"
      }
    },
    {
      "cell_type": "code",
      "source": [
        "# Constant for the speed of light in meters per second\n",
        "SPEED_OF_LIGHT = 299_792_458  # m/s\n",
        "\n",
        "def main():\n",
        "    print(\"Einstein's Mass-Energy Equivalence Calculator\")\n",
        "    print(\"Type 'exit' to quit.\\n\")\n",
        "\n",
        "    while True:\n",
        "        user_input = input(\"Enter kilos of mass: \")\n",
        "\n",
        "        if user_input.lower() == 'exit':\n",
        "            print(\"Exiting the program. Goodbye!\")\n",
        "            break\n",
        "\n",
        "        try:\n",
        "            mass = float(user_input)\n",
        "            energy = mass * SPEED_OF_LIGHT ** 2\n",
        "\n",
        "            print(\"\\ne = m * C^2...\\n\")\n",
        "            print(f\"m = {mass} kg\")\n",
        "            print(f\"C = {SPEED_OF_LIGHT} m/s\")\n",
        "            print(f\"{energy} joules of energy!\\n\")\n",
        "\n",
        "        except ValueError:\n",
        "            print(\"Invalid input. Please enter a number or type 'exit' to quit.\\n\")\n",
        "\n",
        "if __name__ == '__main__':\n",
        "    main()"
      ],
      "metadata": {
        "id": "9QWrJvGsEHYN"
      },
      "execution_count": null,
      "outputs": []
    },
    {
      "cell_type": "markdown",
      "source": [
        "###**03_feet_to_inches**"
      ],
      "metadata": {
        "id": "3TOReGE2EQh1"
      }
    },
    {
      "cell_type": "code",
      "source": [
        "def main():\n",
        "    # Ask the user for a length in feet\n",
        "    feet = float(input(\"Enter length in feet: \"))\n",
        "\n",
        "    # Convert feet to inches\n",
        "    inches = feet * 12\n",
        "\n",
        "    # Print the result\n",
        "    print(f\"{feet} foot{'s' if feet == 1 else 's'} is equal to {inches} inches.\")\n",
        "\n",
        "if __name__ == '__main__':\n",
        "    main()"
      ],
      "metadata": {
        "id": "R4shCqEzEUkQ"
      },
      "execution_count": null,
      "outputs": []
    },
    {
      "cell_type": "markdown",
      "source": [
        "###**04_pythagorean_theorem**"
      ],
      "metadata": {
        "id": "JqyTEiuhEbAF"
      }
    },
    {
      "cell_type": "code",
      "source": [
        "import math\n",
        "\n",
        "def main():\n",
        "    # Ask the user for the lengths of the two perpendicular sides\n",
        "    AB = float(input(\"Enter the length of AB: \"))\n",
        "    AC = float(input(\"Enter the length of AC: \"))\n",
        "\n",
        "    # Calculate the length of the hypotenuse (BC) using the Pythagorean theorem\n",
        "    BC = math.sqrt(AB**2 + AC**2)\n",
        "\n",
        "    # Output the result\n",
        "    print(f\"The length of BC (the hypotenuse) is: {BC}\")\n",
        "\n",
        "if __name__ == '__main__':\n",
        "    main()"
      ],
      "metadata": {
        "id": "HqHTyGXwEi1c"
      },
      "execution_count": null,
      "outputs": []
    },
    {
      "cell_type": "markdown",
      "source": [
        "### **05_remainder_division**"
      ],
      "metadata": {
        "id": "21kX7jsfEms5"
      }
    },
    {
      "cell_type": "code",
      "source": [
        "def main():\n",
        "    # Ask the user for the first integer\n",
        "    dividend = int(input(\"Please enter an integer to be divided: \"))\n",
        "\n",
        "    # Ask the user for the second integer (divisor)\n",
        "    divisor = int(input(\"Please enter an integer to divide by: \"))\n",
        "\n",
        "    # Perform the division and calculate the remainder\n",
        "    result = dividend // divisor\n",
        "    remainder = dividend % divisor\n",
        "\n",
        "    # Print the result and remainder\n",
        "    print(f\"The result of this division is {result} with a remainder of {remainder}\")\n",
        "\n",
        "if __name__ == '__main__':\n",
        "    main()"
      ],
      "metadata": {
        "id": "uh2i_BtFExQG"
      },
      "execution_count": null,
      "outputs": []
    },
    {
      "cell_type": "markdown",
      "source": [
        "###**06_rolldice**"
      ],
      "metadata": {
        "id": "kB8skaHrE_-d"
      }
    },
    {
      "cell_type": "code",
      "source": [
        "import random\n",
        "\n",
        "def roll_dice():\n",
        "    # Simulate rolling two dice\n",
        "    die1 = random.randint(1, 6)\n",
        "    die2 = random.randint(1, 6)\n",
        "\n",
        "    # Print the results of each roll and the total\n",
        "    print(f\"Die 1 rolled: {die1}\")\n",
        "    print(f\"Die 2 rolled: {die2}\")\n",
        "    print(f\"Total of both dice: {die1 + die2}\")\n",
        "\n",
        "def main():\n",
        "    print(\"Rolling two dice...\")\n",
        "    roll_dice()  # Call the function to simulate rolling the dice\n",
        "\n",
        "if __name__ == '__main__':\n",
        "    main()"
      ],
      "metadata": {
        "id": "RxuiCoClFFAR"
      },
      "execution_count": null,
      "outputs": []
    },
    {
      "cell_type": "markdown",
      "source": [
        "###**07_seconds_in_year**"
      ],
      "metadata": {
        "id": "zd6H7Fh5FIFv"
      }
    },
    {
      "cell_type": "code",
      "source": [
        "def main():\n",
        "    # Constants for the time units\n",
        "    DAYS_IN_YEAR = 365\n",
        "    HOURS_IN_DAY = 24\n",
        "    MINUTES_IN_HOUR = 60\n",
        "    SECONDS_IN_MINUTE = 60\n",
        "\n",
        "    # Calculate the number of seconds in a year\n",
        "    seconds_in_year = DAYS_IN_YEAR * HOURS_IN_DAY * MINUTES_IN_HOUR * SECONDS_IN_MINUTE\n",
        "\n",
        "    # Print the result in a nice format\n",
        "    print(f\"There are {seconds_in_year} seconds in a year!\")\n",
        "\n",
        "if __name__ == '__main__':\n",
        "    main()"
      ],
      "metadata": {
        "id": "siirp4kWFP_y"
      },
      "execution_count": null,
      "outputs": []
    },
    {
      "cell_type": "markdown",
      "source": [
        "###**08_tiny_mad_lib**"
      ],
      "metadata": {
        "id": "tHR4OUeaFScC"
      }
    },
    {
      "cell_type": "code",
      "source": [
        "def main():\n",
        "    # Constants for sentence start\n",
        "    SENTENCE_START = \"Code in Place is fun. I learned to program and used Python to make my\"\n",
        "\n",
        "    # Prompt the user for inputs\n",
        "    adjective = input(\"Please type an adjective and press enter: \")\n",
        "    noun = input(\"Please type a noun and press enter: \")\n",
        "    verb = input(\"Please type a verb and press enter: \")\n",
        "\n",
        "    # Construct the final sentence\n",
        "    sentence = f\"{SENTENCE_START} {adjective} {noun} {verb}!\"\n",
        "\n",
        "    # Print the fun sentence\n",
        "    print(sentence)\n",
        "\n",
        "if __name__ == '__main__':\n",
        "    main()"
      ],
      "metadata": {
        "id": "D4eeQ5K7FYfR"
      },
      "execution_count": null,
      "outputs": []
    },
    {
      "cell_type": "markdown",
      "source": [
        "## **02_lists**"
      ],
      "metadata": {
        "id": "rTE_tPN1Fvka"
      }
    },
    {
      "cell_type": "markdown",
      "source": [
        "### **01_add_many_number**"
      ],
      "metadata": {
        "id": "9PNhIgTcGIGj"
      }
    },
    {
      "cell_type": "code",
      "source": [
        "def add_many_numbers(numbers):\n",
        "    \"\"\"\n",
        "    This function takes a list of numbers and returns their sum.\n",
        "\n",
        "    :param numbers: List of numbers to be summed\n",
        "    :return: Sum of the numbers in the list\n",
        "    \"\"\"\n",
        "    total = 0\n",
        "    for number in numbers:\n",
        "        total += number\n",
        "    return total\n",
        "\n",
        "def main():\n",
        "    numbers = [1, 2, 3, 4, 5]\n",
        "    sum_of_numbers = add_many_numbers(numbers)\n",
        "    print(f\"The sum of {numbers} is {sum_of_numbers}\")\n",
        "\n",
        "if __name__ == \"__main__\":\n",
        "    main()"
      ],
      "metadata": {
        "id": "j0IntUkFF47e"
      },
      "execution_count": null,
      "outputs": []
    },
    {
      "cell_type": "markdown",
      "source": [
        "### **02_double_list**"
      ],
      "metadata": {
        "id": "BmQMnm5UGSkU"
      }
    },
    {
      "cell_type": "code",
      "source": [
        "def double_numbers(numbers):\n",
        "    # Loop through the list and double each element\n",
        "    for i in range(len(numbers)):\n",
        "        numbers[i] *= 2\n",
        "\n",
        "def main():\n",
        "    # Initial list of numbers\n",
        "    numbers = [1, 2, 3, 4]\n",
        "\n",
        "    # Print the original list\n",
        "    print(\"Original list:\", numbers)\n",
        "\n",
        "    # Call the function to double each element\n",
        "    double_numbers(numbers)\n",
        "\n",
        "    # Print the modified list\n",
        "    print(\"Doubled list:\", numbers)\n",
        "\n",
        "if __name__ == '__main__':\n",
        "    main()"
      ],
      "metadata": {
        "id": "vYCzLVg-Gac0"
      },
      "execution_count": null,
      "outputs": []
    },
    {
      "cell_type": "markdown",
      "source": [
        "### **03_erase_canvas**"
      ],
      "metadata": {
        "id": "azQbBE1KHAZX"
      }
    },
    {
      "cell_type": "code",
      "source": [
        "# Import the Canvas class and time module\n",
        "from graphics import Canvas\n",
        "import time\n",
        "\n",
        "# Set canvas and tool sizes\n",
        "CANVAS_WIDTH = 400\n",
        "CANVAS_HEIGHT = 400\n",
        "CELL_SIZE = 40\n",
        "ERASER_SIZE = 20\n",
        "\n",
        "# This function \"erases\" by changing the color of overlapping blue squares to white\n",
        "def erase_objects(canvas, eraser):\n",
        "    # Get current mouse position\n",
        "    mouse_x = canvas.get_mouse_x()\n",
        "    mouse_y = canvas.get_mouse_y()\n",
        "\n",
        "    # Define the area around the mouse where erasing happens\n",
        "    left_x = mouse_x\n",
        "    top_y = mouse_y\n",
        "    right_x = left_x + ERASER_SIZE\n",
        "    bottom_y = top_y + ERASER_SIZE\n",
        "\n",
        "    # Get all shapes that are under the eraser area\n",
        "    overlapping_objects = canvas.find_overlapping(left_x, top_y, right_x, bottom_y)\n",
        "\n",
        "    # Change color of those shapes to white (but not the eraser itself)\n",
        "    for obj in overlapping_objects:\n",
        "        if obj != eraser:\n",
        "            canvas.set_color(obj, 'white')\n",
        "\n",
        "# Main function\n",
        "def main():\n",
        "    # Create the drawing area (canvas)\n",
        "    canvas = Canvas(CANVAS_WIDTH, CANVAS_HEIGHT)\n",
        "\n",
        "    # Draw a grid of blue squares\n",
        "    for row in range(CANVAS_HEIGHT // CELL_SIZE):\n",
        "        for col in range(CANVAS_WIDTH // CELL_SIZE):\n",
        "            left_x = col * CELL_SIZE\n",
        "            top_y = row * CELL_SIZE\n",
        "            right_x = left_x + CELL_SIZE\n",
        "            bottom_y = top_y + CELL_SIZE\n",
        "\n",
        "            # Draw a single blue square\n",
        "            canvas.create_rectangle(left_x, top_y, right_x, bottom_y, 'blue')\n",
        "\n",
        "    # Wait for the user to click anywhere to start\n",
        "    canvas.wait_for_click()\n",
        "    start_x, start_y = canvas.get_last_click()\n",
        "\n",
        "    # Create the eraser (a pink square)\n",
        "    eraser = canvas.create_rectangle(\n",
        "        start_x,\n",
        "        start_y,\n",
        "        start_x + ERASER_SIZE,\n",
        "        start_y + ERASER_SIZE,\n",
        "        'pink'\n",
        "    )\n",
        "\n",
        "    # Keep updating the eraser position and erase when mouse is pressed\n",
        "    while True:\n",
        "        # Get current mouse position\n",
        "        mouse_x = canvas.get_mouse_x()\n",
        "        mouse_y = canvas.get_mouse_y()\n",
        "\n",
        "        # Move eraser to follow the mouse\n",
        "        canvas.moveto(eraser, mouse_x, mouse_y)\n",
        "\n",
        "        # If mouse is pressed, erase blue squares under the eraser\n",
        "        if canvas.get_mouse_pressed():\n",
        "            erase_objects(canvas, eraser)\n",
        "\n",
        "        # Short delay for smooth animation\n",
        "        time.sleep(0.01)\n",
        "\n",
        "# Run the program\n",
        "if __name__ == '__main__':\n",
        "    main()"
      ],
      "metadata": {
        "id": "s84Z52v8HED3"
      },
      "execution_count": null,
      "outputs": []
    },
    {
      "cell_type": "markdown",
      "source": [
        "### **04_flowing_with_data_structures**"
      ],
      "metadata": {
        "id": "2rP_PHrNHKlm"
      }
    },
    {
      "cell_type": "code",
      "source": [
        "# This function takes a list and some data,\n",
        "# and adds the data to the list three times.\n",
        "def add_three_copies(my_list, data):\n",
        "    for i in range(3):\n",
        "        my_list.append(data)\n",
        "\n",
        "def main():\n",
        "    # Ask user for a message\n",
        "    message = input(\"Enter a message to copy: \")\n",
        "\n",
        "    # Start with an empty list\n",
        "    my_list = []\n",
        "\n",
        "    # Show the list before modifying\n",
        "    print(\"List before:\", my_list)\n",
        "\n",
        "    # Call the function (list will be modified inside)\n",
        "    add_three_copies(my_list, message)\n",
        "\n",
        "    # Show the list after modification\n",
        "    print(\"List after:\", my_list)\n",
        "\n",
        "# Run the main function\n",
        "if __name__ == \"__main__\":\n",
        "    main()"
      ],
      "metadata": {
        "id": "ysfZf2c-Hedu"
      },
      "execution_count": null,
      "outputs": []
    },
    {
      "cell_type": "markdown",
      "source": [
        "### **05_get_first_element**."
      ],
      "metadata": {
        "id": "Unn8niYjHfyI"
      }
    },
    {
      "cell_type": "code",
      "source": [
        "def get_first_element(lst):\n",
        "    # Print the first element of the list\n",
        "    print(\"First element:\", lst[0])\n",
        "\n",
        "def main():\n",
        "    n = int(input(\"How many elements in the list? \"))\n",
        "    lst = []\n",
        "    for i in range(n):\n",
        "        element = input(f\"Enter element #{i + 1}: \")\n",
        "        lst.append(element)\n",
        "\n",
        "    get_first_element(lst)\n",
        "\n",
        "if __name__ == \"__main__\":\n",
        "    main()"
      ],
      "metadata": {
        "id": "V5G4G8dhIS2D"
      },
      "execution_count": null,
      "outputs": []
    },
    {
      "cell_type": "markdown",
      "source": [
        "### **06_get_last_element**"
      ],
      "metadata": {
        "id": "1azDSe74IYpx"
      }
    },
    {
      "cell_type": "code",
      "source": [
        "def get_last_element(lst):\n",
        "    # Print the last element of the list\n",
        "    print(\"Last element:\", lst[-1])\n",
        "\n",
        "def main():\n",
        "    n = int(input(\"How many elements in the list? \"))\n",
        "    lst = []\n",
        "    for i in range(n):\n",
        "        element = input(f\"Enter element #{i + 1}: \")\n",
        "        lst.append(element)\n",
        "\n",
        "    get_last_element(lst)\n",
        "\n",
        "if __name__ == \"__main__\":\n",
        "    main()"
      ],
      "metadata": {
        "id": "v6c7-RDNIbub"
      },
      "execution_count": null,
      "outputs": []
    },
    {
      "cell_type": "markdown",
      "source": [
        "### **07_get_list**"
      ],
      "metadata": {
        "id": "lO1Lv1PJIjwq"
      }
    },
    {
      "cell_type": "code",
      "source": [
        "def main():\n",
        "    lst = []  # Make an empty list to store things in\n",
        "\n",
        "    val = input(\"Enter a value: \")  # Get an initial value\n",
        "    while val:  # While the user input isn't an empty value\n",
        "        lst.append(val) # Add val to list\n",
        "        val = input(\"Enter a value: \")  # Get the next value to add\n",
        "\n",
        "    print(\"Here's the list:\", lst)\n",
        "\n",
        "if __name__ == '__main__':\n",
        "    main()"
      ],
      "metadata": {
        "id": "wEgNExwzIqpG"
      },
      "execution_count": null,
      "outputs": []
    },
    {
      "cell_type": "markdown",
      "source": [
        "### 08_shorten"
      ],
      "metadata": {
        "id": "mOi7l8vCIuJB"
      }
    },
    {
      "cell_type": "code",
      "source": [
        "MAX_LENGTH = 3  # Only keep the first 3 elements\n",
        "\n",
        "def shorten(lst):\n",
        "    # Keep removing and printing the last element until the list is MAX_LENGTH long\n",
        "    while len(lst) > MAX_LENGTH:\n",
        "        removed = lst.pop()  # Removes the last element\n",
        "        print(\"Removed:\", removed)\n",
        "\n",
        "\n",
        "def main():\n",
        "    n = int(input(\"How many elements in the list? \"))\n",
        "    lst = []\n",
        "    for i in range(n):\n",
        "        element = input(f\"Enter element #{i + 1}: \")\n",
        "        lst.append(element)\n",
        "\n",
        "    shorten(lst)\n",
        "    print(\"Final list:\", lst)\n",
        "\n",
        "if __name__ == \"__main__\":\n",
        "    main()"
      ],
      "metadata": {
        "id": "L_OUTSkDI6G0"
      },
      "execution_count": null,
      "outputs": []
    },
    {
      "cell_type": "markdown",
      "source": [
        "## **03_if_statements**"
      ],
      "metadata": {
        "id": "9IuBUQnsJHnm"
      }
    },
    {
      "cell_type": "markdown",
      "source": [
        "### **01_print_events**"
      ],
      "metadata": {
        "id": "jnWZCSQ5JMnr"
      }
    },
    {
      "cell_type": "code",
      "source": [
        "def main():\n",
        "    # This for-loop starts at 0 and goes up to 19, giving us 20 iterations\n",
        "    for i in range(20):\n",
        "        # Multiply each number by 2 to get even numbers\n",
        "        print(i * 2)\n",
        "\n",
        "# Call the main function when the script is run directly\n",
        "if __name__ == \"__main__\":\n",
        "    main()"
      ],
      "metadata": {
        "id": "W94WNo40JU_r"
      },
      "execution_count": null,
      "outputs": []
    },
    {
      "cell_type": "markdown",
      "source": [
        "### **02_international_voting_age**"
      ],
      "metadata": {
        "id": "W2vL9-k7JbS0"
      }
    },
    {
      "cell_type": "code",
      "source": [
        "# Define voting ages as constants\n",
        "PETURKSBOUIPO_AGE: int = 16\n",
        "STANLAU_AGE: int = 25\n",
        "MAYENGUA_AGE: int = 48\n",
        "\n",
        "def main():\n",
        "    # Ask the user for their age\n",
        "    user_age = int(input(\"How old are you? \"))\n",
        "\n",
        "    # Check for Peturksbouipo\n",
        "    if user_age >= PETURKSBOUIPO_AGE:\n",
        "        print(f\"You can vote in Peturksbouipo where the voting age is {PETURKSBOUIPO_AGE}.\")\n",
        "    else:\n",
        "        print(f\"You cannot vote in Peturksbouipo where the voting age is {PETURKSBOUIPO_AGE}.\")\n",
        "\n",
        "    # Check for Stanlau\n",
        "    if user_age >= STANLAU_AGE:\n",
        "        print(f\"You can vote in Stanlau where the voting age is {STANLAU_AGE}.\")\n",
        "    else:\n",
        "        print(f\"You cannot vote in Stanlau where the voting age is {STANLAU_AGE}.\")\n",
        "\n",
        "    # Check for Mayengua\n",
        "    if user_age >= MAYENGUA_AGE:\n",
        "        print(f\"You can vote in Mayengua where the voting age is {MAYENGUA_AGE}.\")\n",
        "    else:\n",
        "        print(f\"You cannot vote in Mayengua where the voting age is {MAYENGUA_AGE}.\")\n",
        "\n",
        "# Call the main function\n",
        "if __name__ == '__main__':\n",
        "    main()"
      ],
      "metadata": {
        "id": "O_sb73AnJlXn"
      },
      "execution_count": null,
      "outputs": []
    },
    {
      "cell_type": "markdown",
      "source": [
        "### **03_leap_year**"
      ],
      "metadata": {
        "id": "8ZuFHZkpJ4VT"
      }
    },
    {
      "cell_type": "code",
      "source": [
        "# Read input from the user\n",
        "year = int(input(\"Enter a year: \"))\n",
        "\n",
        "# Check if the year is a leap year\n",
        "if (year % 4 == 0):\n",
        "    if (year % 100 == 0):\n",
        "        if (year % 400 == 0):\n",
        "            print(\"That's a leap year!\")\n",
        "        else:\n",
        "            print(\"That's not a leap year.\")\n",
        "    else:\n",
        "        print(\"That's a leap year!\")\n",
        "else:\n",
        "    print(\"That's not a leap year.\")"
      ],
      "metadata": {
        "id": "Iu5l78NbJ93Z"
      },
      "execution_count": null,
      "outputs": []
    },
    {
      "cell_type": "markdown",
      "source": [
        "### **04_tall_enough_to_ride**"
      ],
      "metadata": {
        "id": "34lwRPXJKIIc"
      }
    },
    {
      "cell_type": "code",
      "source": [
        "def tall_enough_extension():\n",
        "    while True:\n",
        "        user_input = input(\"How tall are you? \")\n",
        "\n",
        "        # If the user enters nothing and presses Enter, stop the loop\n",
        "        if user_input.strip() == \"\":\n",
        "            print(\"Goodbye!\")\n",
        "            break\n",
        "\n",
        "        # Try converting input to an integer\n",
        "        try:\n",
        "            height = int(user_input)\n",
        "            if height >= 50:\n",
        "                print(\"You're tall enough to ride!\")\n",
        "            else:\n",
        "                print(\"You're not tall enough to ride, but maybe next year!\")\n",
        "        except ValueError:\n",
        "            print(\"Please enter a valid number or press Enter to exit.\")\n",
        "\n",
        "# Run the function\n",
        "tall_enough_extension()"
      ],
      "metadata": {
        "id": "_8z8DSNhKMEr"
      },
      "execution_count": null,
      "outputs": []
    },
    {
      "cell_type": "markdown",
      "source": [
        "### **05_random_numbers**"
      ],
      "metadata": {
        "id": "4LO0EynbKT1s"
      }
    },
    {
      "cell_type": "code",
      "source": [
        "import random\n",
        "\n",
        "N_NUMBERS: int = 10\n",
        "MIN_VALUE: int = 1\n",
        "MAX_VALUE: int = 100\n",
        "\n",
        "def main():\n",
        "    \"\"\"\n",
        "    Generate and print N_NUMBERS random integers\n",
        "    between MIN_VALUE and MAX_VALUE inclusive.\n",
        "    \"\"\"\n",
        "    for _ in range(N_NUMBERS):\n",
        "        print(random.randint(MIN_VALUE, MAX_VALUE), end=' ')\n",
        "    print()  # Print a newline after the numbers\n",
        "\n",
        "if __name__ == '__main__':\n",
        "    main()"
      ],
      "metadata": {
        "id": "u-SblZgfKWpI"
      },
      "execution_count": null,
      "outputs": []
    },
    {
      "cell_type": "markdown",
      "source": [
        "##**04_dictionaries**"
      ],
      "metadata": {
        "id": "nxg9r3PJKjf5"
      }
    },
    {
      "cell_type": "markdown",
      "source": [
        "###**00_count_nums**"
      ],
      "metadata": {
        "id": "iQk_oQ5pMc0n"
      }
    },
    {
      "cell_type": "code",
      "source": [
        "def get_user_numbers():\n",
        "    \"\"\"\n",
        "    Prompt the user to enter numbers until a blank line is entered.\n",
        "    Returns a list of the entered numbers as integers.\n",
        "    \"\"\"\n",
        "    user_numbers = []\n",
        "    while True:\n",
        "        user_input = input(\"Enter a number: \")\n",
        "\n",
        "        # Exit loop on blank input\n",
        "        if user_input == \"\":\n",
        "            break\n",
        "\n",
        "        try:\n",
        "            num = int(user_input)\n",
        "            user_numbers.append(num)\n",
        "        except ValueError:\n",
        "            print(\"Please enter a valid integer.\")\n",
        "\n",
        "    return user_numbers\n",
        "\n",
        "def count_nums(num_lst):\n",
        "    \"\"\"\n",
        "    Count how many times each number appears in the list.\n",
        "    Returns a dictionary with numbers as keys and their counts as values.\n",
        "    \"\"\"\n",
        "    num_dict = {}\n",
        "    for num in num_lst:\n",
        "        if num not in num_dict:\n",
        "            num_dict[num] = 1\n",
        "        else:\n",
        "            num_dict[num] += 1\n",
        "\n",
        "    return num_dict\n",
        "\n",
        "def print_counts(num_dict):\n",
        "    \"\"\"\n",
        "    Print the number of times each number appears.\n",
        "    \"\"\"\n",
        "    for num in num_dict:\n",
        "        print(f\"{num} appears {num_dict[num]} times.\")\n",
        "\n",
        "def main():\n",
        "    \"\"\"\n",
        "    Main driver function.\n",
        "    Gets numbers from the user, counts occurrences, and prints results.\n",
        "    \"\"\"\n",
        "    user_numbers = get_user_numbers()\n",
        "    num_dict = count_nums(user_numbers)\n",
        "    print_counts(num_dict)\n",
        "\n",
        "# Standard Python entry point\n",
        "if __name__ == '__main__':\n",
        "    main()"
      ],
      "metadata": {
        "id": "BhT6t9EDMc0o"
      },
      "execution_count": null,
      "outputs": []
    },
    {
      "cell_type": "markdown",
      "source": [
        "### **01_phonebook**"
      ],
      "metadata": {
        "id": "ZZuMH7e8Mc0p"
      }
    },
    {
      "cell_type": "code",
      "source": [
        "def read_phone_numbers():\n",
        "    \"\"\"\n",
        "    Prompt the user to enter names and phone numbers.\n",
        "    Returns a dictionary mapping names to phone numbers.\n",
        "    \"\"\"\n",
        "    phonebook = {}\n",
        "\n",
        "    while True:\n",
        "        name = input(\"Name: \")\n",
        "        if name == \"\":\n",
        "            break\n",
        "        number = input(\"Number: \")\n",
        "        phonebook[name] = number\n",
        "\n",
        "    return phonebook\n",
        "\n",
        "\n",
        "def print_phonebook(phonebook):\n",
        "    \"\"\"\n",
        "    Print all entries in the phonebook.\n",
        "    \"\"\"\n",
        "    print(\"\\nPhonebook Entries:\")\n",
        "    for name, number in phonebook.items():\n",
        "        print(f\"{name} -> {number}\")\n",
        "\n",
        "\n",
        "def lookup_numbers(phonebook):\n",
        "    \"\"\"\n",
        "    Allow the user to look up numbers by entering a name.\n",
        "    \"\"\"\n",
        "    print(\"\\nLookup Mode (press Enter to quit):\")\n",
        "    while True:\n",
        "        name = input(\"Enter name to lookup: \")\n",
        "        if name == \"\":\n",
        "            break\n",
        "        if name in phonebook:\n",
        "            print(f\"{name}'s number is {phonebook[name]}\")\n",
        "        else:\n",
        "            print(f\"{name} is not in the phonebook.\")\n",
        "\n",
        "\n",
        "def main():\n",
        "    phonebook = read_phone_numbers()\n",
        "    print_phonebook(phonebook)\n",
        "    lookup_numbers(phonebook)\n",
        "\n",
        "\n",
        "if __name__ == '__main__':\n",
        "    main()"
      ],
      "metadata": {
        "id": "Nu0IIjVIMc0q"
      },
      "execution_count": null,
      "outputs": []
    },
    {
      "cell_type": "markdown",
      "source": [
        "### **02_pop_up_shop**"
      ],
      "metadata": {
        "id": "1NJw9V6yMc0l"
      }
    },
    {
      "cell_type": "code",
      "source": [
        "def main():\n",
        "    fruits = {'apple': 1.5, 'durian': 50, 'jackfruit': 80, 'kiwi': 1, 'rambutan': 1.5, 'mango': 5}\n",
        "\n",
        "    total_cost = 0\n",
        "    for fruit_name in fruits:\n",
        "        price = fruits[fruit_name]\n",
        "        while True:\n",
        "            try:\n",
        "                amount_bought = int(input(f\"How many ({fruit_name}) do you want to buy?: \"))\n",
        "                if amount_bought < 0:\n",
        "                    print(\"Please enter a non-negative number.\")\n",
        "                    continue\n",
        "                total_cost += price * amount_bought\n",
        "                break\n",
        "            except ValueError:\n",
        "                print(\"Please enter a valid number.\")\n",
        "\n",
        "    print(f\"\\nYour total is ${total_cost:.2f}\")\n",
        "\n",
        "\n",
        "# No need to edit beyond this point\n",
        "if __name__ == '__main__':\n",
        "    main()"
      ],
      "metadata": {
        "id": "jwdPMEkdMc0q"
      },
      "execution_count": null,
      "outputs": []
    },
    {
      "cell_type": "markdown",
      "source": [
        "### **03_powerful_passwords**"
      ],
      "metadata": {
        "id": "SOCrC3qBMc0m"
      }
    },
    {
      "cell_type": "code",
      "source": [
        "from hashlib import sha256\n",
        "\n",
        "def login(email, stored_logins, password_to_check):\n",
        "    \"\"\"\n",
        "    Returns True if the hash of the password we are checking matches the one in stored_logins\n",
        "    for a specific email. Otherwise, returns False.\n",
        "\n",
        "    email: the email we are checking the password for\n",
        "    stored_logins: a dictionary pointing from an email to its hashed password\n",
        "    password_to_check: a password we want to test alongside the email to login with\n",
        "    \"\"\"\n",
        "    if email not in stored_logins:\n",
        "        return False\n",
        "\n",
        "    return stored_logins[email] == hash_password(password_to_check)\n",
        "\n",
        "def hash_password(password):\n",
        "    \"\"\"\n",
        "    Takes in a password and returns the SHA256 hashed value for that specific password.\n",
        "\n",
        "    Inputs:\n",
        "        password: the password we want\n",
        "\n",
        "    Outputs:\n",
        "        the hashed form of the input password\n",
        "    \"\"\"\n",
        "    return sha256(password.encode()).hexdigest()\n",
        "\n",
        "def main():\n",
        "    # stored_logins is a dictionary with emails as keys and hashed passwords as values\n",
        "    stored_logins = {\n",
        "        \"example@gmail.com\": \"5e884898da28047151d0e56f8dc6292773603d0d6aabbdd62a11ef721d1542d8\",  # password\n",
        "        \"code_in_placer@cip.org\": \"973607a4ae7b4cf7d96a100b0fb07e8519cc4f70441d41214a9f811577bb06cc\",  # Karel\n",
        "        \"student@stanford.edu\": \"882c6df720fd99f5eebb1581a1cf975625cea8a160283011c0b9512bb56c95fb\"   # 123!456?789\n",
        "    }\n",
        "\n",
        "    print(login(\"example@gmail.com\", stored_logins, \"word\"))         # False\n",
        "    print(login(\"example@gmail.com\", stored_logins, \"password\"))     # True\n",
        "\n",
        "    print(login(\"code_in_placer@cip.org\", stored_logins, \"Karel\"))   # True\n",
        "    print(login(\"code_in_placer@cip.org\", stored_logins, \"karel\"))   # False\n",
        "\n",
        "    print(login(\"student@stanford.edu\", stored_logins, \"password\"))  # False\n",
        "    print(login(\"student@stanford.edu\", stored_logins, \"123!456?789\"))  # True\n",
        "\n",
        "    print(login(\"nonexistent@domain.com\", stored_logins, \"1234\"))    # False\n",
        "\n",
        "# Python boilerplate\n",
        "if __name__ == '__main__':\n",
        "    main()"
      ],
      "metadata": {
        "id": "m3l4cSu0Mc0m"
      },
      "execution_count": null,
      "outputs": []
    },
    {
      "cell_type": "markdown",
      "source": [
        "## **05_loops_control_flow**"
      ],
      "metadata": {
        "id": "htQ1O8T5OGFO"
      }
    },
    {
      "cell_type": "markdown",
      "source": [
        "### **00_guess_my_number**"
      ],
      "metadata": {
        "id": "xB396aqiONtf"
      }
    },
    {
      "cell_type": "code",
      "source": [
        "import random\n",
        "\n",
        "def main():\n",
        "    # Generate a random secret number between 1 and 99\n",
        "    secret_number = random.randint(1, 99)\n",
        "\n",
        "    print(\"I am thinking of a number between 1 and 99...\")\n",
        "\n",
        "    # Prompt the user for their first guess\n",
        "    guess = int(input(\"Enter a guess: \"))\n",
        "\n",
        "    # Continue looping until the guess matches the secret number\n",
        "    while guess != secret_number:\n",
        "        if guess < secret_number:\n",
        "            print(\"Your guess is too low\")\n",
        "        else:\n",
        "            print(\"Your guess is too high\")\n",
        "\n",
        "        print()  # Blank line for better formatting\n",
        "        guess = int(input(\"Enter a new guess: \"))\n",
        "\n",
        "    # Congratulate the user on a correct guess\n",
        "    print(\"Congrats! The number was: \" + str(secret_number))\n",
        "\n",
        "\n",
        "# This ensures the game only runs when the script is executed directly\n",
        "if __name__ == '__main__':\n",
        "    main()"
      ],
      "metadata": {
        "id": "7LDO6NPYOVP0"
      },
      "execution_count": null,
      "outputs": []
    },
    {
      "cell_type": "markdown",
      "source": [
        "### **01_fibonacci**"
      ],
      "metadata": {
        "id": "SN7VjrfjOnac"
      }
    },
    {
      "cell_type": "code",
      "source": [
        "def main():\n",
        "    # Ask the user to enter a starting number\n",
        "    curr_value = int(input(\"Enter a number: \"))\n",
        "\n",
        "    # Keep doubling the value and printing it until it's 100 or more\n",
        "    while curr_value < 100:\n",
        "        curr_value = curr_value * 2\n",
        "        print(curr_value, end=\" \")\n",
        "\n",
        "# Run the main function\n",
        "if __name__ == \"__main__\":\n",
        "    main()\n"
      ],
      "metadata": {
        "id": "Iyo9Dp7mOqpg"
      },
      "execution_count": null,
      "outputs": []
    },
    {
      "cell_type": "markdown",
      "source": [
        "###**02_print_events**"
      ],
      "metadata": {
        "id": "H0NS2RbaO3r8"
      }
    },
    {
      "cell_type": "code",
      "source": [
        "def main():\n",
        "    # This for-loop starts at 0 and counts up to 19 (for a total of 20 numbers)\n",
        "    for i in range(20):\n",
        "        print(i * 2, end=\" \")  # Print numbers on the same line separated by space\n",
        "\n",
        "# Call the main function when \"run\", no need to edit anything below!\n",
        "if __name__ == \"__main__\":\n",
        "    main()\n"
      ],
      "metadata": {
        "id": "RlnByzNXO7FU"
      },
      "execution_count": null,
      "outputs": []
    },
    {
      "cell_type": "markdown",
      "source": [
        "### **03_wholesome_machine**"
      ],
      "metadata": {
        "id": "NVRUBuN4O-ub"
      }
    },
    {
      "cell_type": "code",
      "source": [
        "AFFIRMATION: str = \"I am capable of doing anything I put my mind to.\"\n",
        "\n",
        "def main():\n",
        "    print(\"Please type the following affirmation: \" + AFFIRMATION)\n",
        "\n",
        "    user_input = input()  # Wait for user input\n",
        "    while user_input != AFFIRMATION:\n",
        "        print(\"Hmmm That was not the affirmation.\")\n",
        "        print(\"Please type the following affirmation: \" + AFFIRMATION)\n",
        "        user_input = input()\n",
        "\n",
        "    print(\"That's right! :)\")\n",
        "\n",
        "# Run the program\n",
        "if __name__ == '__main__':\n",
        "    main()\n"
      ],
      "metadata": {
        "id": "YqyKAsIlPDL_"
      },
      "execution_count": null,
      "outputs": []
    },
    {
      "cell_type": "markdown",
      "source": [
        "### **04_liftoff**"
      ],
      "metadata": {
        "id": "U0GHr6AdPGzG"
      }
    },
    {
      "cell_type": "code",
      "source": [
        "def main():\n",
        "    for i in range(10, 0, -1):  # Start at 10, go down to 1\n",
        "        print(i, end=\" \")       # Print numbers on the same line with a space\n",
        "    print(\"Liftoff!\")           # After the loop, print Liftoff!\n",
        "\n",
        "# Run the main function\n",
        "if __name__ == '__main__':\n",
        "    main()\n"
      ],
      "metadata": {
        "id": "ekJb7uSRPMET"
      },
      "execution_count": null,
      "outputs": []
    },
    {
      "cell_type": "markdown",
      "source": [
        "### **05_double_it**"
      ],
      "metadata": {
        "id": "lsgV4w_GPQGs"
      }
    },
    {
      "cell_type": "code",
      "source": [
        "def main():\n",
        "    # Ask the user to enter a starting number\n",
        "    curr_value = int(input(\"Enter a number: \"))\n",
        "\n",
        "    # Keep doubling the value and printing it until it's 100 or more\n",
        "    while curr_value < 100:\n",
        "        curr_value = curr_value * 2\n",
        "        print(curr_value, end=\" \")\n",
        "\n",
        "# Run the main function\n",
        "if __name__ == \"__main__\":\n",
        "    main()\n"
      ],
      "metadata": {
        "id": "xL8zLCvQPYqt"
      },
      "execution_count": null,
      "outputs": []
    }
  ]
}
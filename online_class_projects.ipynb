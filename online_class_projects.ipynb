{
  "nbformat": 4,
  "nbformat_minor": 0,
  "metadata": {
    "colab": {
      "provenance": [],
      "authorship_tag": "ABX9TyPks5svRGYSLMN8wCo/nJWR",
      "include_colab_link": true
    },
    "kernelspec": {
      "name": "python3",
      "display_name": "Python 3"
    },
    "language_info": {
      "name": "python"
    }
  },
  "cells": [
    {
      "cell_type": "markdown",
      "metadata": {
        "id": "view-in-github",
        "colab_type": "text"
      },
      "source": [
        "<a href=\"https://colab.research.google.com/github/muskaanfayyaz/Learn-AI-Python-Assignment-4-Project/blob/main/online_class_projects.ipynb\" target=\"_parent\"><img src=\"https://colab.research.google.com/assets/colab-badge.svg\" alt=\"Open In Colab\"/></a>"
      ]
    },
    {
      "cell_type": "markdown",
      "source": [
        "# **online_class_projects**"
      ],
      "metadata": {
        "id": "59lhGAQpy-y2"
      }
    },
    {
      "cell_type": "markdown",
      "source": [
        "## **01_basics**"
      ],
      "metadata": {
        "id": "fHvzRYiUzRO5"
      }
    },
    {
      "cell_type": "markdown",
      "source": [
        "### **00_joke_bot**"
      ],
      "metadata": {
        "id": "PwhzID3YznlI"
      }
    },
    {
      "cell_type": "code",
      "source": [
        "PROMPT: str = \"What do you want? \"\n",
        "JOKE: str = \"Here is a joke for you! Sophia is heading out to the grocery store. A programmer tells her: get a liter of milk, and if they have eggs, get 12. Sophia returns with 13 liters of milk. The programmer asks why and Sophia replies: 'because they had eggs'\"\n",
        "SORRY: str = \"Sorry I only tell jokes.\"\n",
        "\n",
        "def main():\n",
        "    user_input = input(PROMPT).strip().lower()\n",
        "\n",
        "    if user_input == \"joke\":\n",
        "        print(JOKE)\n",
        "    else:\n",
        "        print(SORRY)\n",
        "\n",
        "if __name__ == \"__main__\":\n",
        "    main()\n"
      ],
      "metadata": {
        "colab": {
          "base_uri": "https://localhost:8080/"
        },
        "id": "hr0Tg6fHzQiJ",
        "outputId": "1de4af03-d4e6-4dff-9a30-9033fa326a20"
      },
      "execution_count": 3,
      "outputs": [
        {
          "output_type": "stream",
          "name": "stdout",
          "text": [
            "What do you want? joke\n",
            "Here is a joke for you! Sophia is heading out to the grocery store. A programmer tells her: get a liter of milk, and if they have eggs, get 12. Sophia returns with 13 liters of milk. The programmer asks why and Sophia replies: 'because they had eggs'\n"
          ]
        }
      ]
    },
    {
      "cell_type": "markdown",
      "source": [
        "### **01_double_it**"
      ],
      "metadata": {
        "id": "azeCxT9C0fnh"
      }
    },
    {
      "cell_type": "code",
      "source": [
        "# Ask the user for a number\n",
        "curr_value = int(input(\"Enter a number: \"))\n",
        "\n",
        "# Double the number and print results until it's 100 or more\n",
        "while curr_value < 100:\n",
        "    curr_value = curr_value * 2\n",
        "    print(curr_value, end=\" \")\n"
      ],
      "metadata": {
        "colab": {
          "base_uri": "https://localhost:8080/"
        },
        "id": "MBDL4OXT0ueJ",
        "outputId": "0b9a241b-528a-40b6-dd14-4e5d08935ad9"
      },
      "execution_count": 6,
      "outputs": [
        {
          "output_type": "stream",
          "name": "stdout",
          "text": [
            "Enter a number: 8\n",
            "16 32 64 128 "
          ]
        }
      ]
    },
    {
      "cell_type": "markdown",
      "source": [
        "### **02_liftoff**"
      ],
      "metadata": {
        "id": "OZsrDLZM1PLJ"
      }
    },
    {
      "cell_type": "code",
      "source": [
        "# Countdown from 10 to 1\n",
        "for i in range(10, 0, -1):\n",
        "    print(i, end=\" \")\n",
        "\n",
        "# Print Liftoff!\n",
        "print(\"Liftoff!\")\n"
      ],
      "metadata": {
        "colab": {
          "base_uri": "https://localhost:8080/"
        },
        "id": "Zblnua0R1VnX",
        "outputId": "d04c1b53-aa9b-4bc1-e0cd-6c333da98233"
      },
      "execution_count": 7,
      "outputs": [
        {
          "output_type": "stream",
          "name": "stdout",
          "text": [
            "10 9 8 7 6 5 4 3 2 1 Liftoff!\n"
          ]
        }
      ]
    },
    {
      "cell_type": "markdown",
      "source": [
        "### **03_guess_my_number**"
      ],
      "metadata": {
        "id": "FsiytRl91h4I"
      }
    },
    {
      "cell_type": "code",
      "source": [
        "import random\n",
        "\n",
        "# Generate a random number between 0 and 99\n",
        "secret_number = random.randint(0, 99)\n",
        "\n",
        "print(\"I am thinking of a number between 0 and 99...\")\n",
        "\n",
        "# First guess\n",
        "guess = int(input(\"Enter a guess: \"))\n",
        "\n",
        "# Loop until the user guesses correctly\n",
        "while guess != secret_number:\n",
        "    if guess > secret_number:\n",
        "        print(\"Your guess is too high\")\n",
        "    else:\n",
        "        print(\"Your guess is too low\")\n",
        "    guess = int(input(\"Enter a new number: \"))\n",
        "\n",
        "# Correct guess\n",
        "print(f\"Congrats! The number was: {secret_number}\")\n"
      ],
      "metadata": {
        "id": "kBTFr1pF1mcB"
      },
      "execution_count": null,
      "outputs": []
    },
    {
      "cell_type": "markdown",
      "source": [
        "### **04_random_numbers**"
      ],
      "metadata": {
        "id": "nGFpZMPF1zwc"
      }
    },
    {
      "cell_type": "code",
      "source": [
        "import random\n",
        "\n",
        "# Print 10 random numbers from 1 to 100\n",
        "for _ in range(10):\n",
        "    number = random.randint(1, 100)\n",
        "    print(number, end=\" \")\n"
      ],
      "metadata": {
        "id": "VcrCnEo_17BN"
      },
      "execution_count": null,
      "outputs": []
    }
  ]
}